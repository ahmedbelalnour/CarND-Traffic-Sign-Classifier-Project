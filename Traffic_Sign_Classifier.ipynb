{
 "cells": [
  {
   "cell_type": "markdown",
   "metadata": {},
   "source": [
    "# Self-Driving Car Engineer Nanodegree\n",
    "\n",
    "## Deep Learning\n",
    "\n",
    "## Project: Build a Traffic Sign Recognition Classifier\n",
    "#### Steps:\n",
    "##### Step 1: Load and Preparing The Data Set\n",
    "1. Load train, validation and test data\n",
    "2. Convert into a greyscale image\n",
    "3. Normalize data\n",
    "4. Dataset Summary: printing number of train, validation and test data\n",
    "5. Visualize random item of the testing data set alongside it's lable code, check signnames.csv for more information\n",
    "6. Shuffle the training data to prevent the network from saving a known sequence\n",
    "7. Set Tensor Flow parameters: EPOCH and BATCH_SIZE values affect the training speed and model accuracy.\n",
    "##### Step 2: Design and Test a Model Architecture\n",
    "1. Pre-process the Data Set (normalization, grayscale, etc.)\n",
    "2. Model Architecture\n"
   ]
  },
  {
   "cell_type": "markdown",
   "metadata": {},
   "source": [
    "## Step 0: Load The Data"
   ]
  },
  {
   "cell_type": "code",
   "execution_count": null,
   "metadata": {
    "collapsed": true
   },
   "outputs": [],
   "source": [
    "# Load pickled data\n",
    "import pickle\n",
    "\n",
    "# TODO: Fill this in based on where you saved the training and testing data\n",
    "\n",
    "training_file = 'train.p'\n",
    "validation_file= 'valid.p'\n",
    "testing_file = 'test.p'\n",
    "\n",
    "with open(training_file, mode='rb') as f:\n",
    "    train = pickle.load(f)\n",
    "with open(validation_file, mode='rb') as f:\n",
    "    valid = pickle.load(f)\n",
    "with open(testing_file, mode='rb') as f:\n",
    "    test = pickle.load(f)\n",
    "    \n",
    "X_train, y_train = train['features'], train['labels']\n",
    "X_validation, y_validation = valid['features'], valid['labels']\n",
    "X_test, y_test = test['features'], test['labels']"
   ]
  },
  {
   "cell_type": "code",
   "execution_count": null,
   "metadata": {
    "collapsed": true
   },
   "outputs": [],
   "source": [
    "# convert into a greyscale image\n",
    "import numpy as np\n",
    "from numpy import newaxis\n",
    "\n",
    "def rgb2gray(rgb):\n",
    "    r, g, b = rgb[...,0], rgb[...,1], rgb[...,2]\n",
    "    gray = 0.2989 * r + 0.5870 * g + 0.1140 * b\n",
    "    gray = gray[..., newaxis]\n",
    "    return gray"
   ]
  },
  {
   "cell_type": "markdown",
   "metadata": {},
   "source": [
    "---\n",
    "\n",
    "## Step 1: Dataset Summary & Exploration\n",
    "\n",
    "The pickled data is a dictionary with 4 key/value pairs:\n",
    "\n",
    "- `'features'` is a 4D array containing raw pixel data of the traffic sign images, (num examples, width, height, channels).\n",
    "- `'labels'` is a 1D array containing the label/class id of the traffic sign. The file `signnames.csv` contains id -> name mappings for each id.\n",
    "- `'sizes'` is a list containing tuples, (width, height) representing the original width and height the image.\n",
    "- `'coords'` is a list containing tuples, (x1, y1, x2, y2) representing coordinates of a bounding box around the sign in the image. **THESE COORDINATES ASSUME THE ORIGINAL IMAGE. THE PICKLED DATA CONTAINS RESIZED VERSIONS (32 by 32) OF THESE IMAGES**\n",
    "\n",
    "Complete the basic data summary below. Use python, numpy and/or pandas methods to calculate the data summary rather than hard coding the results. For example, the [pandas shape method](http://pandas.pydata.org/pandas-docs/stable/generated/pandas.DataFrame.shape.html) might be useful for calculating some of the summary results. "
   ]
  },
  {
   "cell_type": "markdown",
   "metadata": {},
   "source": [
    "### Provide a Basic Summary of the Data Set Using Python, Numpy and/or Pandas"
   ]
  },
  {
   "cell_type": "code",
   "execution_count": null,
   "metadata": {},
   "outputs": [],
   "source": [
    "### Replace each question mark with the appropriate value. \n",
    "### Use python, pandas or numpy methods rather than hard coding the results\n",
    "\n",
    "# TODO: Number of training examples\n",
    "n_train = len(X_train)\n",
    "\n",
    "# TODO: Number of validation examples\n",
    "n_validation = len(X_validation)\n",
    "\n",
    "# TODO: Number of testing examples.\n",
    "n_test = len(X_test)\n",
    "\n",
    "# TODO: What's the shape of an traffic sign image?\n",
    "image_shape = X_train[0].shape\n",
    "\n",
    "# TODO: How many unique classes/labels there are in the dataset.\n",
    "n_classes = 43\n",
    "\n",
    "print(\"Number of training examples =\", n_train)\n",
    "print(\"Number of validating examples =\", n_validation)\n",
    "print(\"Number of testing examples =\", n_test)\n",
    "print(\"Image data shape =\", image_shape)\n",
    "print(\"Number of classes =\", n_classes)"
   ]
  },
  {
   "cell_type": "markdown",
   "metadata": {},
   "source": [
    "### Include an exploratory visualization of the dataset"
   ]
  },
  {
   "cell_type": "markdown",
   "metadata": {},
   "source": [
    "Visualize the German Traffic Signs Dataset using the pickled file(s). This is open ended, suggestions include: plotting traffic sign images, plotting the count of each sign, etc. \n",
    "\n",
    "The [Matplotlib](http://matplotlib.org/) [examples](http://matplotlib.org/examples/index.html) and [gallery](http://matplotlib.org/gallery.html) pages are a great resource for doing visualizations in Python.\n",
    "\n",
    "**NOTE:** It's recommended you start with something simple first. If you wish to do more, come back to it after you've completed the rest of the sections. It can be interesting to look at the distribution of classes in the training, validation and test set. Is the distribution the same? Are there more examples of some classes than others?"
   ]
  },
  {
   "cell_type": "code",
   "execution_count": null,
   "metadata": {
    "collapsed": true
   },
   "outputs": [],
   "source": [
    "import matplotlib as mpl\n",
    "from matplotlib import pyplot as plt\n",
    "\n",
    "# got it from the link: https://docs.opencv.org/3.1.0/d5/daf/tutorial_py_histogram_equalization.html\n",
    "def plotHistogramForImage(image):\n",
    "    %matplotlib inline\n",
    "    inline_rc = dict(mpl.rcParams)\n",
    "    hist,bins = np.histogram(image.flatten(),256,[0,256])\n",
    "    cdf = hist.cumsum()\n",
    "    cdf_normalized = cdf * hist.max()/ cdf.max()\n",
    "    plt.plot(cdf_normalized, color = 'b')\n",
    "    plt.hist(image.flatten(),256,[0,256], color = 'r')\n",
    "    plt.xlim([0,256])\n",
    "    plt.legend(('cdf','histogram'), loc = 'upper left')\n",
    "    plt.show()\n",
    "    mpl.rcParams.update(inline_rc)\n",
    "    \n",
    "def image_histogram_equalization(image, number_bins=256):\n",
    "    # from http://www.janeriksolem.net/2009/06/histogram-equalization-with-python-and.html\n",
    "\n",
    "    # get image histogram\n",
    "    image_histogram, bins = np.histogram(image.flatten(), number_bins, normed=True)\n",
    "    cdf = image_histogram.cumsum() # cumulative distribution function\n",
    "    cdf = 255 * cdf / cdf[-1] # normalize\n",
    "\n",
    "    # use linear interpolation of cdf to find new pixel values\n",
    "    image_equalized = np.interp(image.flatten(), bins[:-1], cdf)\n",
    "\n",
    "    return image_equalized.reshape(image.shape)"
   ]
  },
  {
   "cell_type": "code",
   "execution_count": null,
   "metadata": {},
   "outputs": [],
   "source": [
    "### Data exploration visualization code goes here.\n",
    "### Feel free to use as many code cells as needed.\n",
    "import random\n",
    "import numpy as np\n",
    "from matplotlib import pyplot as plt\n",
    "# Visualizations will be shown in the notebook.\n",
    "\n",
    "index = random.randint(0, len(X_train))\n",
    "image = X_train[index].squeeze() # squeeze()?\n",
    "image = image[:,:,0]\n",
    "print(image.shape)\n",
    "plt.figure(figsize=(1, 1))\n",
    "plt.title('original image')\n",
    "plt.imshow(image, cmap='gray')\n",
    "plt.show()\n",
    "plt.title('original image histogram')\n",
    "plotHistogramForImage(image)\n",
    "\n",
    "equalizedImage = image_histogram_equalization(image)\n",
    "plt.figure(figsize=(1, 1))\n",
    "plt.title('equalized image')\n",
    "plt.imshow(equalizedImage, cmap='gray')\n",
    "plt.show()\n",
    "plt.title('equalized image histogram')\n",
    "plotHistogramForImage(equalizedImage)\n",
    "\n",
    "print(y_train[index])"
   ]
  },
  {
   "cell_type": "markdown",
   "metadata": {},
   "source": [
    "### Show the distribution for each class in the training data"
   ]
  },
  {
   "cell_type": "code",
   "execution_count": null,
   "metadata": {},
   "outputs": [],
   "source": [
    "from matplotlib import pyplot as plt\n",
    "def show_histogram():\n",
    "    labels_histogram,bins = np.histogram(y_train, 43, [0,43])\n",
    "    print(labels_histogram)#print number of training data for each class\n",
    "    print(bins)\n",
    "    plt.xlabel(\"Labels\")\n",
    "    plt.ylabel(\"Number of data in each class\")\n",
    "    plt.bar(bins[0:-1], labels_histogram) #we can use also --> plt.plot(bins[0:-1], hist)  <-- but its output is a curve\n",
    "    return labels_histogram\n",
    "labels_histogram = show_histogram()"
   ]
  },
  {
   "cell_type": "markdown",
   "metadata": {},
   "source": [
    "As shown in the previous cell, the destribution of the data is not fair at all for most of the classes so we need to augment the data that has very low training sample."
   ]
  },
  {
   "cell_type": "markdown",
   "metadata": {},
   "source": [
    "### Add helper functions to show images in a matrix"
   ]
  },
  {
   "cell_type": "code",
   "execution_count": null,
   "metadata": {
    "collapsed": true
   },
   "outputs": [],
   "source": [
    "import os\n",
    "from matplotlib.pyplot import figure, imshow, axis\n",
    "from matplotlib import pyplot as plt\n",
    "from matplotlib.image import imread\n",
    "\n",
    "hSize = 5\n",
    "wSize = 5\n",
    "def showImagesMatrix(images_path = None, list_of_image_files = None, list_of_image_titles = None, col=10):\n",
    "    if not list_of_image_files:\n",
    "        list_of_image_files = os.listdir(images_path)\n",
    "    fig = figure( figsize=(wSize, hSize))\n",
    "    number_of_files = len(list_of_image_files)\n",
    "    row = number_of_files/col\n",
    "    if (number_of_files%col != 0):\n",
    "        row += 1\n",
    "    for i in range(number_of_files):\n",
    "        a=fig.add_subplot(row,col,i+1)\n",
    "        if images_path:\n",
    "            image = imread(images_path+'/'+list_of_image_files[i])\n",
    "        else:\n",
    "            image = list_of_image_files[i]\n",
    "        if list_of_image_titles:\n",
    "            plt.title(list_of_image_titles[i])\n",
    "        imshow(image,cmap='Greys_r')\n",
    "        axis('off')"
   ]
  },
  {
   "cell_type": "markdown",
   "metadata": {},
   "source": [
    "### Add helper functions to rotate images"
   ]
  },
  {
   "cell_type": "code",
   "execution_count": null,
   "metadata": {
    "collapsed": true
   },
   "outputs": [],
   "source": [
    "import cv2\n",
    "import numpy as np\n",
    "import math\n",
    "\n",
    "def rotate_image(image, angle):\n",
    "    \"\"\"\n",
    "    Rotates an OpenCV 2 / NumPy image about it's centre by the given angle\n",
    "    (in degrees). The returned image will be large enough to hold the entire\n",
    "    new image, with a black background\n",
    "    \"\"\"\n",
    "\n",
    "    # Get the image size\n",
    "    # No that's not an error - NumPy stores image matricies backwards\n",
    "    image_size = (image.shape[1], image.shape[0])\n",
    "    image_center = tuple(np.array(image_size) / 2)\n",
    "\n",
    "    # Convert the OpenCV 3x2 rotation matrix to 3x3\n",
    "    rot_mat = np.vstack(\n",
    "        [cv2.getRotationMatrix2D(image_center, angle, 1.0), [0, 0, 1]]\n",
    "    )\n",
    "\n",
    "    rot_mat_notranslate = np.matrix(rot_mat[0:2, 0:2])\n",
    "\n",
    "    # Shorthand for below calcs\n",
    "    image_w2 = image_size[0] * 0.5\n",
    "    image_h2 = image_size[1] * 0.5\n",
    "\n",
    "    # Obtain the rotated coordinates of the image corners\n",
    "    rotated_coords = [\n",
    "        (np.array([-image_w2,  image_h2]) * rot_mat_notranslate).A[0],\n",
    "        (np.array([ image_w2,  image_h2]) * rot_mat_notranslate).A[0],\n",
    "        (np.array([-image_w2, -image_h2]) * rot_mat_notranslate).A[0],\n",
    "        (np.array([ image_w2, -image_h2]) * rot_mat_notranslate).A[0]\n",
    "    ]\n",
    "\n",
    "    # Find the size of the new image\n",
    "    x_coords = [pt[0] for pt in rotated_coords]\n",
    "    x_pos = [x for x in x_coords if x > 0]\n",
    "    x_neg = [x for x in x_coords if x < 0]\n",
    "\n",
    "    y_coords = [pt[1] for pt in rotated_coords]\n",
    "    y_pos = [y for y in y_coords if y > 0]\n",
    "    y_neg = [y for y in y_coords if y < 0]\n",
    "\n",
    "    right_bound = max(x_pos)\n",
    "    left_bound = min(x_neg)\n",
    "    top_bound = max(y_pos)\n",
    "    bot_bound = min(y_neg)\n",
    "\n",
    "    new_w = int(abs(right_bound - left_bound))\n",
    "    new_h = int(abs(top_bound - bot_bound))\n",
    "\n",
    "    # We require a translation matrix to keep the image centred\n",
    "    trans_mat = np.matrix([\n",
    "        [1, 0, int(new_w * 0.5 - image_w2)],\n",
    "        [0, 1, int(new_h * 0.5 - image_h2)],\n",
    "        [0, 0, 1]\n",
    "    ])\n",
    "\n",
    "    # Compute the tranform for the combined rotation and translation\n",
    "    affine_mat = (np.matrix(trans_mat) * np.matrix(rot_mat))[0:2, :]\n",
    "\n",
    "    # Apply the transform\n",
    "    result = cv2.warpAffine(\n",
    "        image,\n",
    "        affine_mat,\n",
    "        (new_w, new_h),\n",
    "        flags=cv2.INTER_LINEAR\n",
    "    )\n",
    "\n",
    "    return result\n",
    "\n",
    "\n",
    "def largest_rotated_rect(w, h, angle):\n",
    "    \"\"\"\n",
    "    Given a rectangle of size wxh that has been rotated by 'angle' (in\n",
    "    radians), computes the width and height of the largest possible\n",
    "    axis-aligned rectangle within the rotated rectangle.\n",
    "\n",
    "    Original JS code by 'Andri' and Magnus Hoff from Stack Overflow\n",
    "\n",
    "    Converted to Python by Aaron Snoswell\n",
    "    \"\"\"\n",
    "\n",
    "    quadrant = int(math.floor(angle / (math.pi / 2))) & 3\n",
    "    sign_alpha = angle if ((quadrant & 1) == 0) else math.pi - angle\n",
    "    alpha = (sign_alpha % math.pi + math.pi) % math.pi\n",
    "\n",
    "    bb_w = w * math.cos(alpha) + h * math.sin(alpha)\n",
    "    bb_h = w * math.sin(alpha) + h * math.cos(alpha)\n",
    "\n",
    "    gamma = math.atan2(bb_w, bb_w) if (w < h) else math.atan2(bb_w, bb_w)\n",
    "\n",
    "    delta = math.pi - alpha - gamma\n",
    "\n",
    "    length = h if (w < h) else w\n",
    "\n",
    "    d = length * math.cos(alpha)\n",
    "    a = d * math.sin(alpha) / math.sin(delta)\n",
    "\n",
    "    y = a * math.cos(gamma)\n",
    "    x = y * math.tan(gamma)\n",
    "\n",
    "    return (\n",
    "        bb_w - 2 * x,\n",
    "        bb_h - 2 * y\n",
    "    )\n",
    "\n",
    "\n",
    "def crop_around_center(image, width, height):\n",
    "    \"\"\"\n",
    "    Given a NumPy / OpenCV 2 image, crops it to the given width and height,\n",
    "    around it's centre point\n",
    "    \"\"\"\n",
    "\n",
    "    image_size = (image.shape[1], image.shape[0])\n",
    "    image_center = (int(image_size[0] * 0.5), int(image_size[1] * 0.5))\n",
    "\n",
    "    if(width > image_size[0]):\n",
    "        width = image_size[0]\n",
    "\n",
    "    if(height > image_size[1]):\n",
    "        height = image_size[1]\n",
    "\n",
    "    x1 = int(image_center[0] - width * 0.5)\n",
    "    x2 = int(image_center[0] + width * 0.5)\n",
    "    y1 = int(image_center[1] - height * 0.5)\n",
    "    y2 = int(image_center[1] + height * 0.5)\n",
    "\n",
    "    return image[y1:y2, x1:x2]\n",
    "\n",
    "def rotate_image_and_crop_black_borders(image, angle):\n",
    "    image_height, image_width = image.shape[0:2]\n",
    "    \n",
    "    rotated_image = rotate_image(image,angle) \n",
    "    rotated_image_cropped = crop_around_center(\n",
    "            rotated_image,\n",
    "            *largest_rotated_rect(\n",
    "                image_width,\n",
    "                image_height,\n",
    "                math.radians(rotation_angle)\n",
    "            )\n",
    "        )\n",
    "    rotated_image_cropped = cv2.resize(rotated_image_cropped, dsize=(image_width, image_height), interpolation=cv2.INTER_CUBIC)\n",
    "    return rotated_image_cropped\n"
   ]
  },
  {
   "cell_type": "markdown",
   "metadata": {},
   "source": [
    "### Test image rotation"
   ]
  },
  {
   "cell_type": "code",
   "execution_count": null,
   "metadata": {},
   "outputs": [],
   "source": [
    "from matplotlib import pyplot as plt\n",
    "\n",
    "idx = 1\n",
    "images_list = []\n",
    "images_titles = []\n",
    "image = X_train[idx] #get an image from the training set\n",
    "images_list.append(image)\n",
    "images_titles.append('Original image')\n",
    "\n",
    "image_height, image_width = image.shape[0:2]\n",
    "\n",
    "rotation_angle = 25\n",
    "rotated_image = rotate_image(image,rotation_angle) \n",
    "images_list.append(rotated_image)\n",
    "images_titles.append('Rotated image')\n",
    "\n",
    "rotated_image_cropped = rotate_image_and_crop_black_borders(image, rotation_angle)\n",
    "images_list.append(rotated_image_cropped)\n",
    "images_titles.append('Croped image')\n",
    "\n",
    "showImagesMatrix(list_of_image_files = images_list, list_of_image_titles=images_titles, col=3)"
   ]
  },
  {
   "cell_type": "markdown",
   "metadata": {},
   "source": [
    "### Add helper function to shift images"
   ]
  },
  {
   "cell_type": "code",
   "execution_count": null,
   "metadata": {
    "collapsed": true
   },
   "outputs": [],
   "source": [
    "import cv2\n",
    "import numpy as np\n",
    "def shift_image(img, x_shift, y_shift):    \n",
    "    rows,cols = img.shape[0:2]\n",
    "    M = np.float32([[1,0,x_shift],[0,1,y_shift]])\n",
    "    shifted_img = cv2.warpAffine(img,M,(cols,rows))\n",
    "\n",
    "    cropped_img = shifted_img[y_shift:rows, x_shift:cols]\n",
    "\n",
    "    resized_img = cv2.resize(cropped_img,(rows, cols), interpolation = cv2.INTER_CUBIC)\n",
    "    return resized_img"
   ]
  },
  {
   "cell_type": "markdown",
   "metadata": {},
   "source": [
    "### Test image shift"
   ]
  },
  {
   "cell_type": "code",
   "execution_count": null,
   "metadata": {},
   "outputs": [],
   "source": [
    "from matplotlib import pyplot as plt\n",
    "idx = 1\n",
    "images_list = []\n",
    "images_titles = []\n",
    "img = X_train[idx] #get an image from the training set\n",
    "images_list.append(image)\n",
    "images_titles.append('Original image')\n",
    "\n",
    "shifted_img = shift_image(img, 5,8)\n",
    "images_list.append(shifted_img)\n",
    "images_titles.append('Shifted image')\n",
    "showImagesMatrix(list_of_image_files = images_list, list_of_image_titles=images_titles, col=3)"
   ]
  },
  {
   "cell_type": "markdown",
   "metadata": {},
   "source": [
    "### Steps to augment the data set\n",
    "For each training sample whose corresponding label has less than 1000 samples do:\n",
    " - if the label has less than 500 training samples, create a new rotated image randomly [3:15] and add it to X_train, and add its corresponding label to y_train.\n",
    " - if the label has less than 800 training samples, create a new shifted image [2:6] and add it to x_train, and add its corresponding label to y_train.\n",
    " - create a new shifted-rotated image and add it to x_train, and add its corresponding label to y_train."
   ]
  },
  {
   "cell_type": "code",
   "execution_count": null,
   "metadata": {},
   "outputs": [],
   "source": [
    "# add the code to augment the trainning data set\n",
    "from random import randint\n",
    "\n",
    "def random_image_rotate(image):\n",
    "    rotation_angle = randint(3, 15)\n",
    "    rotated_image = rotate_image_and_crop_black_borders(image, rotation_angle)\n",
    "    return rotated_image\n",
    "\n",
    "def random_image_shift(image):\n",
    "    shift_x = randint(2, 6)\n",
    "    shift_y = randint(2, 6)\n",
    "    shifted_image = shift_image(image, shift_x, shift_y)\n",
    "    return shifted_image\n",
    "\n",
    "def random_image_shift_and_rotate(image):\n",
    "    rotated_image = random_image_rotate(image)\n",
    "    shifted_rotated_image = random_image_shift(rotated_image)\n",
    "    return shifted_rotated_image\n",
    "\n",
    "x_train_len = len(X_train)\n",
    "augmented_x_train = []\n",
    "augmented_y_train = []\n",
    "count = 0\n",
    "for idx in range(0, x_train_len):\n",
    "    image = X_train[idx]\n",
    "    label = y_train[idx]\n",
    "    if(labels_histogram[label] < 1000):\n",
    "        if(labels_histogram[label] < 300):\n",
    "            count+=1\n",
    "            rotated_shifted_image = random_image_shift_and_rotate(image)\n",
    "            augmented_x_train.append([rotated_shifted_image])\n",
    "            augmented_y_train.append(label)\n",
    "        if(labels_histogram[label] < 500):\n",
    "            count+=1\n",
    "            rotated_image = random_image_shift(image)\n",
    "            augmented_x_train.append([rotated_image])\n",
    "            augmented_y_train.append(label)\n",
    "        if(labels_histogram[label] < 800):\n",
    "            count+=1\n",
    "            shifted_image = random_image_shift(image)\n",
    "            augmented_x_train.append([shifted_image])\n",
    "            augmented_y_train.append(label)\n",
    "\n",
    "        count+=1\n",
    "        rotated_shifted_image = random_image_shift_and_rotate(image)\n",
    "        augmented_x_train.append([rotated_shifted_image])\n",
    "        augmented_y_train.append(label)\n",
    "        \n",
    "augmented_x_train = np.asarray(augmented_x_train)\n",
    "print(\"aug shape = \", augmented_x_train.shape)\n",
    "augmented_x_train = augmented_x_train[:,0,:,:,:]\n",
    "print(\"aug shape = \", augmented_x_train.shape)\n",
    "print(\"old x train shape = \", X_train.shape)\n",
    "X_train = np.concatenate((X_train, augmented_x_train))\n",
    "print(\"new x train shape = \", X_train.shape)\n",
    "\n",
    "augmented_y_train = np.asarray(augmented_y_train)\n",
    "print(\"old y train shape = \", y_train.shape)\n",
    "y_train = np.concatenate((y_train, augmented_y_train))\n",
    "print(\"new y train shape = \", y_train.shape)\n",
    "print(\"count = \", count)\n",
    "show_histogram()"
   ]
  },
  {
   "cell_type": "markdown",
   "metadata": {},
   "source": [
    "### Preprocess Data\n",
    "Shuffle the training data."
   ]
  },
  {
   "cell_type": "code",
   "execution_count": null,
   "metadata": {
    "collapsed": true
   },
   "outputs": [],
   "source": [
    "from sklearn.utils import shuffle\n",
    "\n",
    "X_train, y_train = shuffle(X_train, y_train)"
   ]
  },
  {
   "cell_type": "markdown",
   "metadata": {},
   "source": [
    "### Setup TensorFlow\n",
    "The EPOCH and BATCH_SIZE values affect the training speed and model accuracy."
   ]
  },
  {
   "cell_type": "code",
   "execution_count": null,
   "metadata": {
    "collapsed": true
   },
   "outputs": [],
   "source": [
    "import tensorflow as tf\n",
    "\n",
    "EPOCHS = 20\n",
    "BATCH_SIZE = 128"
   ]
  },
  {
   "cell_type": "markdown",
   "metadata": {},
   "source": [
    "----\n",
    "\n",
    "## Step 2: Design and Test a Model Architecture\n",
    "\n",
    "Design and implement a deep learning model that learns to recognize traffic signs. Train and test your model on the [German Traffic Sign Dataset](http://benchmark.ini.rub.de/?section=gtsrb&subsection=dataset).\n",
    "\n",
    "The LeNet-5 implementation shown in the [classroom](https://classroom.udacity.com/nanodegrees/nd013/parts/fbf77062-5703-404e-b60c-95b78b2f3f9e/modules/6df7ae49-c61c-4bb2-a23e-6527e69209ec/lessons/601ae704-1035-4287-8b11-e2c2716217ad/concepts/d4aca031-508f-4e0b-b493-e7b706120f81) at the end of the CNN lesson is a solid starting point. You'll have to change the number of classes and possibly the preprocessing, but aside from that it's plug and play! \n",
    "\n",
    "With the LeNet-5 solution from the lecture, you should expect a validation set accuracy of about 0.89. To meet specifications, the validation set accuracy will need to be at least 0.93. It is possible to get an even higher accuracy, but 0.93 is the minimum for a successful project submission. \n",
    "\n",
    "There are various aspects to consider when thinking about this problem:\n",
    "\n",
    "- Neural network architecture (is the network over or underfitting?)\n",
    "- Play around preprocessing techniques (normalization, rgb to grayscale, etc)\n",
    "- Number of examples per label (some have more than others).\n",
    "- Generate fake data.\n",
    "\n",
    "Here is an example of a [published baseline model on this problem](http://yann.lecun.com/exdb/publis/pdf/sermanet-ijcnn-11.pdf). It's not required to be familiar with the approach used in the paper but, it's good practice to try to read papers like these."
   ]
  },
  {
   "cell_type": "markdown",
   "metadata": {},
   "source": [
    "### Pre-process the Data Set (normalization, grayscale, etc.)"
   ]
  },
  {
   "cell_type": "markdown",
   "metadata": {},
   "source": [
    "Minimally, the image data should be normalized so that the data has mean zero and equal variance. For image data, `(pixel - 128)/ 128` is a quick way to approximately normalize the data and can be used in this project. \n",
    "\n",
    "Other pre-processing steps are optional. You can try different techniques to see if it improves performance. \n",
    "\n",
    "Use the code cell (or multiple code cells, if necessary) to implement the first step of your project."
   ]
  },
  {
   "cell_type": "code",
   "execution_count": null,
   "metadata": {
    "collapsed": true
   },
   "outputs": [],
   "source": [
    "def preProcessInput(input):\n",
    "    output = rgb2gray(input)\n",
    "    output = image_histogram_equalization(output)\n",
    "    output = (output - 128) / 128 #normalize data\n",
    "    return output"
   ]
  },
  {
   "cell_type": "code",
   "execution_count": null,
   "metadata": {
    "collapsed": true
   },
   "outputs": [],
   "source": [
    "### Preprocess the data here. It is required to normalize the data. Other preprocessing steps could include \n",
    "### converting to grayscale, etc.\n",
    "### Feel free to use as many code cells as needed.\n",
    "\n",
    "X_train = preProcessInput(X_train)\n",
    "X_validation = preProcessInput(X_validation)\n",
    "X_test = preProcessInput(X_test)\n",
    "n_channels_in_image = X_train[0].shape[2]"
   ]
  },
  {
   "cell_type": "code",
   "execution_count": null,
   "metadata": {
    "collapsed": true
   },
   "outputs": [],
   "source": [
    "def convolutionFunc(inputLayer, filterSize, inputDepth, outputDepth, mu, stdDev, paddingType):\n",
    "    conv1_W = tf.Variable(tf.truncated_normal(shape=(filterSize, filterSize, inputDepth, outputDepth), mean = mu, stddev = stdDev))\n",
    "    conv1_b = tf.Variable(tf.zeros(outputDepth))\n",
    "    conv1   = tf.nn.conv2d(inputLayer, conv1_W, strides=[1, 1, 1, 1], padding=paddingType) + conv1_b\n",
    "    \n",
    "    conv1 = tf.nn.relu(conv1)\n",
    "    return conv1\n",
    "\n",
    "def fullyConnectedFunc(inputLayer, inputLayerNum, outputLayerNum, mu, stdDev):\n",
    "    fc_W  = tf.Variable(tf.truncated_normal(shape=(inputLayerNum, outputLayerNum), mean = mu, stddev = stdDev))\n",
    "    fc_b  = tf.Variable(tf.zeros(outputLayerNum))\n",
    "    fc    = tf.matmul(inputLayer, fc_W) + fc_b\n",
    "    return fc"
   ]
  },
  {
   "cell_type": "markdown",
   "metadata": {},
   "source": [
    "### Model Architecture"
   ]
  },
  {
   "cell_type": "markdown",
   "metadata": {},
   "source": [
    "### Input\n",
    "The LeNet architecture accepts a 32x32xC image as input, where C is the number of color channels. Since Traffic sign images are color, C is 3 in this case."
   ]
  },
  {
   "cell_type": "markdown",
   "metadata": {},
   "source": [
    "### Architecture\n",
    "Layer 1: Convolutional. The output shape should be 28x28x16 using relu activation function.\n",
    "Layer 2: Convolutional. The output shape should be 28x28x32 using relu activation function.\n",
    "Pooling. The output shape should be 14x14x32.\n",
    "Drop out with keep probability = 0.9\n",
    "\n",
    "Layer 3: Convolutional. The output shape should be 10x10x64 using relu activation function.\n",
    "Layer 4: Convolutional. The output shape should be 10x10x128 using relu activation function.\n",
    "Pooling. The output shape should be 5x5x128.\n",
    "Drop out with keep probability = 0.8\n",
    "\n",
    "Flatten. Flatten the output shape (3200) of the final pooling layer such that it's 1D instead of 3D. The easiest way to do is by using tf.contrib.layers.flatten, which is already imported.\n",
    "\n",
    "Layer 5: Fully Connected. This should have 2400 outputs.\n",
    "Activation. Relu activation function.\n",
    "Drop out with keep probability = 0.7\n",
    "\n",
    "Layer 6: Fully Connected. This should have 1600 outputs.\n",
    "Activation. Relu activation function.\n",
    "Drop out with keep probability = 0.6\n",
    "\n",
    "Layer 7: Fully Connected. This should have 800 outputs.\n",
    "Activation. Relu activation function.\n",
    "Drop out with keep probability = dropout variable passed as a parameter to the LeNet function\n",
    "\n",
    "Layer 8: Fully Connected (Logits). This should have 43 outputs."
   ]
  },
  {
   "cell_type": "code",
   "execution_count": null,
   "metadata": {
    "collapsed": true
   },
   "outputs": [],
   "source": [
    "from tensorflow.contrib.layers import flatten\n",
    "\n",
    "def LeNet(x, dropout):    \n",
    "    # Arguments used for tf.truncated_normal, randomly defines variables for the weights and biases for each layer\n",
    "    mu = 0\n",
    "    sigma = 0.1\n",
    "    # SOLUTION: Layer 1: Convolutional. Input = 32x32x1. Output = 28x28x16.\n",
    "    conv1 = convolutionFunc(x, 5, n_channels_in_image, 16, mu, sigma, 'VALID')\n",
    "    # SOLUTION: Layer 2: Convolutional. Input = 28x28x16. Output = 28x28x32.\n",
    "    conv2 = convolutionFunc(conv1, 5, 16, 32, mu, sigma, 'SAME')\n",
    "    # SOLUTION: Pooling. Input = 28x28x32. Output = 14x14x32.\n",
    "    conv2 = tf.nn.max_pool(conv2, ksize=[1, 2, 2, 1], strides=[1, 2, 2, 1], padding='VALID')\n",
    "    if 1 != dropout:\n",
    "        conv2 = tf.nn.dropout(conv2, 0.9)\n",
    "        \n",
    "    # SOLUTION: Layer 3: Convolutional.  Input = 14x14x32 Output = 10x10x64.\n",
    "    conv3  =convolutionFunc(conv2, 5, 32, 64, mu, sigma, 'VALID')\n",
    "    # SOLUTION: Layer 4: Convolutional.  Input = 10x10x64 Output = 10x10x128.\n",
    "    conv4  =convolutionFunc(conv3, 5, 64, 128, mu, sigma, 'SAME')\n",
    "    # SOLUTION: Pooling. Input = 10x10x128. Output = 5x5x128.\n",
    "    conv4 = tf.nn.max_pool(conv4, ksize=[1, 2, 2, 1], strides=[1, 2, 2, 1], padding='VALID')\n",
    "    if 1 != dropout:\n",
    "        conv4 = tf.nn.dropout(conv4, 0.8)\n",
    "    \n",
    "    # SOLUTION: Flatten. Input = 5x5x128. Output = 3200.\n",
    "    fc0   = flatten(conv4)\n",
    "    \n",
    "    # SOLUTION: Layer 5: Fully Connected. Input = 3200. Output = 2400.\n",
    "    fc1 = fullyConnectedFunc(fc0, 3200, 2400, mu, sigma)\n",
    "    # SOLUTION: Activation.\n",
    "    fc1 = tf.nn.relu(fc1)\n",
    "    if 1 != dropout:\n",
    "        fc1 = tf.nn.dropout(fc1, 0.7)\n",
    "    \n",
    "    # SOLUTION: Layer 6: Fully Connected. Input = 2400. Output = 1600.\n",
    "    fc2 = fullyConnectedFunc(fc1, 2400, 1600, mu, sigma)\n",
    "    # SOLUTION: Activation.\n",
    "    fc2    = tf.nn.relu(fc2)\n",
    "    if 1 != dropout:\n",
    "        fc2 = tf.nn.dropout(fc2, 0.6)  \n",
    "    \n",
    "    # SOLUTION: Layer 7: Fully Connected. Input = 1600. Output = 800.\n",
    "    fc3 = fullyConnectedFunc(fc2, 1600, 800, mu, sigma)\n",
    "    # SOLUTION: Activation.\n",
    "    fc3    = tf.nn.relu(fc3)\n",
    "    fc3 = tf.nn.dropout(fc3, dropout)\n",
    "    \n",
    "    # SOLUTION: Layer 8: Fully Connected. Input = 800. Output = 43.\n",
    "    logits = fullyConnectedFunc(fc3, 800, 43, mu, sigma)\n",
    "    \n",
    "    return logits"
   ]
  },
  {
   "cell_type": "markdown",
   "metadata": {},
   "source": [
    "### Features and Labels\n",
    "Train LeNet to classify traffic sign data.\n",
    "\n",
    "x is a placeholder for a batch of input images. y is a placeholder for a batch of output labels."
   ]
  },
  {
   "cell_type": "code",
   "execution_count": null,
   "metadata": {
    "collapsed": true
   },
   "outputs": [],
   "source": [
    "import tensorflow as tf\n",
    "x = tf.placeholder(tf.float32, (None, 32, 32, n_channels_in_image))\n",
    "y = tf.placeholder(tf.int32, (None))\n",
    "keep_prob = tf.placeholder(tf.float32)\n",
    "one_hot_y = tf.one_hot(y, 43)"
   ]
  },
  {
   "cell_type": "markdown",
   "metadata": {},
   "source": [
    "### Train, Validate and Test the Model"
   ]
  },
  {
   "cell_type": "markdown",
   "metadata": {},
   "source": [
    "A validation set can be used to assess how well the model is performing. A low accuracy on the training and validation\n",
    "sets imply underfitting. A high accuracy on the training set but low accuracy on the validation set implies overfitting."
   ]
  },
  {
   "cell_type": "code",
   "execution_count": null,
   "metadata": {
    "collapsed": true
   },
   "outputs": [],
   "source": [
    "### Once a final model architecture is selected, \n",
    "### the accuracy on the test set should be calculated and reported as well.\n",
    "### Feel free to use as many code cells as needed."
   ]
  },
  {
   "cell_type": "code",
   "execution_count": null,
   "metadata": {
    "collapsed": true
   },
   "outputs": [],
   "source": [
    "rate = 0.001\n",
    "### Train your model here.\n",
    "logits = LeNet(x, keep_prob)\n",
    "### Calculate and report the accuracy on the training and validation set.\n",
    "cross_entropy = tf.nn.softmax_cross_entropy_with_logits(labels=one_hot_y, logits=logits)\n",
    "loss_operation = tf.reduce_mean(cross_entropy)\n",
    "optimizer = tf.train.AdamOptimizer(learning_rate = rate)\n",
    "training_operation = optimizer.minimize(loss_operation)"
   ]
  },
  {
   "cell_type": "markdown",
   "metadata": {},
   "source": [
    "### Model Evaluation\n",
    "Evaluate how well the loss and accuracy of the model for a given dataset."
   ]
  },
  {
   "cell_type": "code",
   "execution_count": null,
   "metadata": {
    "collapsed": true
   },
   "outputs": [],
   "source": [
    "correct_prediction = tf.equal(tf.argmax(logits, 1), tf.argmax(one_hot_y, 1))\n",
    "accuracy_operation = tf.reduce_mean(tf.cast(correct_prediction, tf.float32))\n",
    "saver = tf.train.Saver()\n",
    "\n",
    "def evaluate(X_data, y_data):\n",
    "    num_examples = len(X_data)\n",
    "    total_accuracy = 0\n",
    "    sess = tf.get_default_session()\n",
    "    for offset in range(0, num_examples, BATCH_SIZE):\n",
    "        batch_x, batch_y = X_data[offset:offset+BATCH_SIZE], y_data[offset:offset+BATCH_SIZE]\n",
    "        accuracy = sess.run(accuracy_operation, feed_dict={x: batch_x, y: batch_y, keep_prob: 1.0})\n",
    "        total_accuracy += (accuracy * len(batch_x))\n",
    "    return total_accuracy / num_examples"
   ]
  },
  {
   "cell_type": "markdown",
   "metadata": {},
   "source": [
    "### Train the Model\n",
    "Run the training data through the training pipeline to train the model.\n",
    "\n",
    "Before each epoch, shuffle the training set.\n",
    "\n",
    "After each epoch, measure the loss and accuracy of the validation set.\n",
    "\n",
    "Save the model after training."
   ]
  },
  {
   "cell_type": "code",
   "execution_count": null,
   "metadata": {},
   "outputs": [],
   "source": [
    "with tf.Session() as sess:\n",
    "    sess.run(tf.global_variables_initializer())\n",
    "    num_examples = len(X_train)\n",
    "    \n",
    "    print(\"Training...\")\n",
    "    print()\n",
    "    for i in range(EPOCHS):\n",
    "        X_train, y_train = shuffle(X_train, y_train)\n",
    "        for offset in range(0, num_examples, BATCH_SIZE):\n",
    "            end = offset + BATCH_SIZE\n",
    "            batch_x, batch_y = X_train[offset:end], y_train[offset:end]\n",
    "            sess.run(training_operation, feed_dict={x: batch_x, y: batch_y, keep_prob: 0.5})\n",
    "            \n",
    "        validation_accuracy = evaluate(X_validation, y_validation)\n",
    "        print(\"EPOCH {} ...\".format(i+1))\n",
    "        print(\"Validation Accuracy = {:.3f}\".format(validation_accuracy))\n",
    "        print()\n",
    "        \n",
    "    saver.save(sess, './lenet')\n",
    "    print(\"Model saved\")"
   ]
  },
  {
   "cell_type": "markdown",
   "metadata": {},
   "source": [
    "---\n",
    "\n",
    "## Step 3: Test a Model on New Images\n",
    "\n",
    "To give yourself more insight into how your model is working, download at least five pictures of German traffic signs from the web and use your model to predict the traffic sign type.\n",
    "\n",
    "You may find `signnames.csv` useful as it contains mappings from the class id (integer) to the actual sign name."
   ]
  },
  {
   "cell_type": "code",
   "execution_count": null,
   "metadata": {},
   "outputs": [],
   "source": [
    "with tf.Session() as sess:\n",
    "    saver.restore(sess, tf.train.latest_checkpoint('.'))\n",
    "\n",
    "    test_accuracy = evaluate(X_test, y_test)\n",
    "    print(\"Test Accuracy = {:.3f}\".format(test_accuracy))"
   ]
  },
  {
   "cell_type": "markdown",
   "metadata": {},
   "source": [
    "### Load and Output the Images"
   ]
  },
  {
   "cell_type": "code",
   "execution_count": null,
   "metadata": {},
   "outputs": [],
   "source": [
    "### Load the images and plot them here.\n",
    "### Feel free to use as many code cells as needed.\n",
    "\n",
    "#load the signnames.csv into a dictionary called signesDict\n",
    "f = open(\"signnames.csv\", \"r\")\n",
    "lines = f.read().split(\"\\n\") # \"\\r\\n\" if needed\n",
    "signesDict = {}\n",
    "for line in lines:\n",
    "    if line != \"\": # add other needed checks to skip titles\n",
    "        cols = line.split(\",\")\n",
    "        signesDict[cols[0]] = cols[1]\n",
    "print(signesDict)"
   ]
  },
  {
   "cell_type": "code",
   "execution_count": null,
   "metadata": {},
   "outputs": [],
   "source": [
    "# load images from the hard disk\n",
    "col = 4\n",
    "images_path = \"Testing_images/\"\n",
    "showImagesMatrix(images_path = images_path, col = col)"
   ]
  },
  {
   "cell_type": "code",
   "execution_count": null,
   "metadata": {
    "collapsed": true
   },
   "outputs": [],
   "source": [
    "def print_top_five_probabilities_from_output_logits(outputLogits):\n",
    "    outputTuples = get_top_five_probabilites_from_output_logits(outputLogits)\n",
    "    signNames = []\n",
    "    probabilities = []\n",
    "    for outputTuple in outputTuples:\n",
    "        probabilities.append(outputTuple[0] *100)\n",
    "        signNames.append(outputTuple[1])        \n",
    "        print(outputTuple[1],\" : \", outputTuple[0])\n",
    "    \n",
    "    plt.xlabel(\"Output classes names\")\n",
    "    plt.ylabel(\"Propability\")\n",
    "    signIndices = list(range(0, len(signNames)))\n",
    "    plt.xticks(signIndices, signNames, rotation=90)\n",
    "    plt.bar(signIndices, probabilities) #we can use also --> plt.plot(bins[0:-1], hist)  <-- but its output is a curve\n",
    "    plt.show()\n",
    "\n",
    "def get_top_five_probabilites_from_output_logits(outputLogits):\n",
    "    outputTuple = []\n",
    "    for i in range(0, len(outputLogits)):\n",
    "        outputTuple.append((outputLogits[i], signesDict[str(i)]))\n",
    "    \n",
    "    outputTuple.sort(key=lambda tup: tup[0], reverse = True)#inplace sort\n",
    "    outputTuple = outputTuple[0:5]\n",
    "    return outputTuple"
   ]
  },
  {
   "cell_type": "markdown",
   "metadata": {},
   "source": [
    "### Predict the Sign Type for Each Image"
   ]
  },
  {
   "cell_type": "code",
   "execution_count": null,
   "metadata": {
    "scrolled": true
   },
   "outputs": [],
   "source": [
    "from PIL import Image\n",
    "import numpy as np\n",
    "from numpy import newaxis\n",
    "\n",
    "import matplotlib.image as mpimg\n",
    "from matplotlib import pyplot as plt\n",
    "\n",
    "def get_list_of_test_images_from_dir(images_path):\n",
    "    list_of_images = []\n",
    "    list_of_image_files = os.listdir(images_path)\n",
    "    number_of_files = len(list_of_image_files)\n",
    "    for i in range(number_of_files):\n",
    "        image = imread(images_path+'/'+list_of_image_files[i])\n",
    "        list_of_images.append(image)\n",
    "    return list_of_images\n",
    "\n",
    "def get_network_predictions_for_image(img):\n",
    "    processed_image = preProcessInput(img)\n",
    "    processed_image = processed_image[newaxis,...]\n",
    "\n",
    "    networkOutput = tf.nn.softmax(logits=logits)\n",
    "    with tf.Session() as sess:\n",
    "        saver.restore(sess, tf.train.latest_checkpoint('.'))\n",
    "        output = sess.run(networkOutput, feed_dict={x: processed_image , keep_prob: 1.0})\n",
    "        output = output[0]\n",
    "    return output\n",
    "\n",
    "list_of_images = get_list_of_test_images_from_dir(images_path)            \n",
    "expected_output_dict = {\"Traffic_Sign_09.png\" : 13\n",
    "                       , \"Traffic_Sign_08.png\" : 38\n",
    "                       , \"Traffic_Sign_03.png\" : 17\n",
    "                       , \"Traffic_Sign_01.png\" : 21\n",
    "                       , \"Traffic_Sign_06.png\" : 28\n",
    "                       , \"Traffic_Sign_05.png\" : 34\n",
    "                       , \"Traffic_Sign_02.png\" : 39\n",
    "                       , \"Traffic_Sign_04.png\" : 40\n",
    "                       , \"Traffic_Sign_10.png\" : 11\n",
    "                       , \"Traffic_Sign_07.png\" : 0}\n",
    "list_of_image_names = os.listdir(images_path)\n",
    "number_of_images_classified_correctly = 0\n",
    "for idx in range(0, len(list_of_images)):\n",
    "    img = list_of_images[idx]\n",
    "    image_name = list_of_image_names[idx]\n",
    "    expected_out_class = expected_output_dict[image_name]\n",
    "    print(\"Expected output class : \", signesDict[str(expected_out_class)])\n",
    "    plt.imshow(img, cmap='gray')\n",
    "    plt.show()\n",
    "    logits_output = get_network_predictions_for_image(img)\n",
    "    logits_max_class = logits_output.tolist().index(max(logits_output))\n",
    "    print_top_five_probabilities_from_output_logits(logits_output)\n",
    "    is_classified_correctly = logits_max_class == expected_output_dict[image_name]\n",
    "    if is_classified_correctly:\n",
    "        number_of_images_classified_correctly += 1\n",
    "    print(\"is classified correctly : \", is_classified_correctly)\n",
    "    print(\"........................................................................\\n\")\n"
   ]
  },
  {
   "cell_type": "markdown",
   "metadata": {},
   "source": [
    "### Analyze Performance"
   ]
  },
  {
   "cell_type": "code",
   "execution_count": null,
   "metadata": {},
   "outputs": [],
   "source": [
    "### Calculate the accuracy for these 5 new images. \n",
    "### For example, if the model predicted 1 out of 5 signs correctly, it's 20% accurate on these new images.\n",
    "print(\"Total performance for the tested images : \" , number_of_images_classified_correctly / len(list_of_images) * 100 , \" %\")"
   ]
  },
  {
   "cell_type": "markdown",
   "metadata": {},
   "source": [
    "### Output Top 5 Softmax Probabilities For Each Image Found on the Web"
   ]
  },
  {
   "cell_type": "markdown",
   "metadata": {},
   "source": [
    "For each of the new images, print out the model's softmax probabilities to show the **certainty** of the model's predictions (limit the output to the top 5 probabilities for each image). [`tf.nn.top_k`](https://www.tensorflow.org/versions/r0.12/api_docs/python/nn.html#top_k) could prove helpful here. \n",
    "\n",
    "The example below demonstrates how tf.nn.top_k can be used to find the top k predictions for each image.\n",
    "\n",
    "`tf.nn.top_k` will return the values and indices (class ids) of the top k predictions. So if k=3, for each sign, it'll return the 3 largest probabilities (out of a possible 43) and the correspoding class ids.\n",
    "\n",
    "Take this numpy array as an example. The values in the array represent predictions. The array contains softmax probabilities for five candidate images with six possible classes. `tf.nn.top_k` is used to choose the three classes with the highest probability:\n",
    "\n",
    "```\n",
    "# (5, 6) array\n",
    "a = np.array([[ 0.24879643,  0.07032244,  0.12641572,  0.34763842,  0.07893497,\n",
    "         0.12789202],\n",
    "       [ 0.28086119,  0.27569815,  0.08594638,  0.0178669 ,  0.18063401,\n",
    "         0.15899337],\n",
    "       [ 0.26076848,  0.23664738,  0.08020603,  0.07001922,  0.1134371 ,\n",
    "         0.23892179],\n",
    "       [ 0.11943333,  0.29198961,  0.02605103,  0.26234032,  0.1351348 ,\n",
    "         0.16505091],\n",
    "       [ 0.09561176,  0.34396535,  0.0643941 ,  0.16240774,  0.24206137,\n",
    "         0.09155967]])\n",
    "```\n",
    "\n",
    "Running it through `sess.run(tf.nn.top_k(tf.constant(a), k=3))` produces:\n",
    "\n",
    "```\n",
    "TopKV2(values=array([[ 0.34763842,  0.24879643,  0.12789202],\n",
    "       [ 0.28086119,  0.27569815,  0.18063401],\n",
    "       [ 0.26076848,  0.23892179,  0.23664738],\n",
    "       [ 0.29198961,  0.26234032,  0.16505091],\n",
    "       [ 0.34396535,  0.24206137,  0.16240774]]), indices=array([[3, 0, 5],\n",
    "       [0, 1, 4],\n",
    "       [0, 5, 1],\n",
    "       [1, 3, 5],\n",
    "       [1, 4, 3]], dtype=int32))\n",
    "```\n",
    "\n",
    "Looking just at the first row we get `[ 0.34763842,  0.24879643,  0.12789202]`, you can confirm these are the 3 largest probabilities in `a`. You'll also notice `[3, 0, 5]` are the corresponding indices."
   ]
  },
  {
   "cell_type": "code",
   "execution_count": null,
   "metadata": {
    "collapsed": true
   },
   "outputs": [],
   "source": [
    "### Print out the top five softmax probabilities for the predictions on the German traffic sign images found on the web. \n",
    "### Feel free to use as many code cells as needed."
   ]
  },
  {
   "cell_type": "markdown",
   "metadata": {},
   "source": [
    "### Project Writeup\n",
    "\n",
    "Once you have completed the code implementation, document your results in a project writeup using this [template](https://github.com/udacity/CarND-Traffic-Sign-Classifier-Project/blob/master/writeup_template.md) as a guide. The writeup can be in a markdown or pdf file. "
   ]
  },
  {
   "cell_type": "markdown",
   "metadata": {},
   "source": [
    "> **Note**: Once you have completed all of the code implementations and successfully answered each question above, you may finalize your work by exporting the iPython Notebook as an HTML document. You can do this by using the menu above and navigating to  \\n\",\n",
    "    \"**File -> Download as -> HTML (.html)**. Include the finished document along with this notebook as your submission."
   ]
  },
  {
   "cell_type": "markdown",
   "metadata": {},
   "source": [
    "---\n",
    "\n",
    "## Step 4 (Optional): Visualize the Neural Network's State with Test Images\n",
    "\n",
    " This Section is not required to complete but acts as an additional excersise for understaning the output of a neural network's weights. While neural networks can be a great learning device they are often referred to as a black box. We can understand what the weights of a neural network look like better by plotting their feature maps. After successfully training your neural network you can see what it's feature maps look like by plotting the output of the network's weight layers in response to a test stimuli image. From these plotted feature maps, it's possible to see what characteristics of an image the network finds interesting. For a sign, maybe the inner network feature maps react with high activation to the sign's boundary outline or to the contrast in the sign's painted symbol.\n",
    "\n",
    " Provided for you below is the function code that allows you to get the visualization output of any tensorflow weight layer you want. The inputs to the function should be a stimuli image, one used during training or a new one you provided, and then the tensorflow variable name that represents the layer's state during the training process, for instance if you wanted to see what the [LeNet lab's](https://classroom.udacity.com/nanodegrees/nd013/parts/fbf77062-5703-404e-b60c-95b78b2f3f9e/modules/6df7ae49-c61c-4bb2-a23e-6527e69209ec/lessons/601ae704-1035-4287-8b11-e2c2716217ad/concepts/d4aca031-508f-4e0b-b493-e7b706120f81) feature maps looked like for it's second convolutional layer you could enter conv2 as the tf_activation variable.\n",
    "\n",
    "For an example of what feature map outputs look like, check out NVIDIA's results in their paper [End-to-End Deep Learning for Self-Driving Cars](https://devblogs.nvidia.com/parallelforall/deep-learning-self-driving-cars/) in the section Visualization of internal CNN State. NVIDIA was able to show that their network's inner weights had high activations to road boundary lines by comparing feature maps from an image with a clear path to one without. Try experimenting with a similar test to show that your trained network's weights are looking for interesting features, whether it's looking at differences in feature maps from images with or without a sign, or even what feature maps look like in a trained network vs a completely untrained one on the same sign image.\n",
    "\n",
    "<figure>\n",
    " <img src=\"visualize_cnn.png\" width=\"380\" alt=\"Combined Image\" />\n",
    " <figcaption>\n",
    " <p></p> \n",
    " <p style=\"text-align: center;\"> Your output should look something like this (above)</p> \n",
    " </figcaption>\n",
    "</figure>\n",
    " <p></p> \n"
   ]
  },
  {
   "cell_type": "code",
   "execution_count": null,
   "metadata": {
    "collapsed": true
   },
   "outputs": [],
   "source": [
    "### Visualize your network's feature maps here.\n",
    "### Feel free to use as many code cells as needed.\n",
    "\n",
    "# image_input: the test image being fed into the network to produce the feature maps\n",
    "# tf_activation: should be a tf variable name used during your training procedure that represents the calculated state of a specific weight layer\n",
    "# activation_min/max: can be used to view the activation contrast in more detail, by default matplot sets min and max to the actual min and max values of the output\n",
    "# plt_num: used to plot out multiple different weight feature map sets on the same block, just extend the plt number for each new feature map entry\n",
    "\n",
    "def outputFeatureMap(image_input, tf_activation, activation_min=-1, activation_max=-1 ,plt_num=1):\n",
    "    # Here make sure to preprocess your image_input in a way your network expects\n",
    "    # with size, normalization, ect if needed\n",
    "    # image_input =\n",
    "    # Note: x should be the same name as your network's tensorflow data placeholder variable\n",
    "    # If you get an error tf_activation is not defined it may be having trouble accessing the variable from inside a function\n",
    "    activation = tf_activation.eval(session=sess,feed_dict={x : image_input})\n",
    "    featuremaps = activation.shape[3]\n",
    "    plt.figure(plt_num, figsize=(15,15))\n",
    "    for featuremap in range(featuremaps):\n",
    "        plt.subplot(6,8, featuremap+1) # sets the number of feature maps to show on each row and column\n",
    "        plt.title('FeatureMap ' + str(featuremap)) # displays the feature map number\n",
    "        if activation_min != -1 & activation_max != -1:\n",
    "            plt.imshow(activation[0,:,:, featuremap], interpolation=\"nearest\", vmin =activation_min, vmax=activation_max, cmap=\"gray\")\n",
    "        elif activation_max != -1:\n",
    "            plt.imshow(activation[0,:,:, featuremap], interpolation=\"nearest\", vmax=activation_max, cmap=\"gray\")\n",
    "        elif activation_min !=-1:\n",
    "            plt.imshow(activation[0,:,:, featuremap], interpolation=\"nearest\", vmin=activation_min, cmap=\"gray\")\n",
    "        else:\n",
    "            plt.imshow(activation[0,:,:, featuremap], interpolation=\"nearest\", cmap=\"gray\")"
   ]
  }
 ],
 "metadata": {
  "anaconda-cloud": {},
  "kernelspec": {
   "display_name": "Python 3",
   "language": "python",
   "name": "python3"
  },
  "language_info": {
   "codemirror_mode": {
    "name": "ipython",
    "version": 3
   },
   "file_extension": ".py",
   "mimetype": "text/x-python",
   "name": "python",
   "nbconvert_exporter": "python",
   "pygments_lexer": "ipython3",
   "version": "3.5.2"
  },
  "widgets": {
   "state": {},
   "version": "1.1.2"
  }
 },
 "nbformat": 4,
 "nbformat_minor": 1
}
